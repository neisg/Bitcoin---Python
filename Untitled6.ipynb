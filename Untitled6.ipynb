{
  "nbformat": 4,
  "nbformat_minor": 0,
  "metadata": {
    "colab": {
      "provenance": [],
      "authorship_tag": "ABX9TyNjH+ff/cm34FfMRXbiewu3",
      "include_colab_link": true
    },
    "kernelspec": {
      "name": "python3",
      "display_name": "Python 3"
    },
    "language_info": {
      "name": "python"
    }
  },
  "cells": [
    {
      "cell_type": "markdown",
      "metadata": {
        "id": "view-in-github",
        "colab_type": "text"
      },
      "source": [
        "<a href=\"https://colab.research.google.com/github/neisg/Bitcoin---Python/blob/main/Untitled6.ipynb\" target=\"_parent\"><img src=\"https://colab.research.google.com/assets/colab-badge.svg\" alt=\"Open In Colab\"/></a>"
      ]
    },
    {
      "cell_type": "code",
      "source": [
        "#Análise de Dados de bitcoin"
      ],
      "metadata": {
        "id": "HEmr1RseMdxe"
      },
      "execution_count": 3,
      "outputs": []
    },
    {
      "cell_type": "code",
      "execution_count": 4,
      "metadata": {
        "id": "MixtEAu-L7br"
      },
      "outputs": [],
      "source": [
        "# Bibliotecas\n",
        "import numpy as np\n",
        "import pandas as pd\n",
        "\n",
        "# Libs para utilizar o Plotly\n",
        "import plotly.express as px\n",
        "import plotly.graph_objects as Dash"
      ]
    },
    {
      "cell_type": "code",
      "source": [
        "# Lendo a base de dados\n",
        "Base_Dados = pd.read_excel('/Dados_Bitcoin.xlsx')\n",
        "\n",
        "# Verificando\n",
        "Base_Dados.head(10)"
      ],
      "metadata": {
        "colab": {
          "base_uri": "https://localhost:8080/",
          "height": 363
        },
        "id": "RFU_PAINMchB",
        "outputId": "c33d59af-edca-4cc7-c0cc-73b9dd0b102a"
      },
      "execution_count": 5,
      "outputs": [
        {
          "output_type": "execute_result",
          "data": {
            "text/plain": [
              "        Date         High          Low         Open        Close     Volume  \\\n",
              "0 2017-03-24  1040.469971   934.357971  1038.449951   937.520020  491038016   \n",
              "1 2017-03-25   975.760986   903.713013   936.539978   972.778992  435803008   \n",
              "2 2017-03-26  1007.960022   954.185974   974.015015   966.724976  303668000   \n",
              "3 2017-03-27  1046.400024   971.984009   972.054993  1045.770020  372535008   \n",
              "4 2017-03-28  1064.650024  1027.729980  1044.579956  1047.150024  326332000   \n",
              "5 2017-03-29  1055.130005  1015.880005  1046.079956  1039.969971  298457984   \n",
              "6 2017-03-30  1049.290039  1020.039978  1042.209961  1026.430054  352968992   \n",
              "7 2017-03-31  1074.920044  1026.640015  1026.640015  1071.790039  447287008   \n",
              "8 2017-04-01  1091.719971  1061.089966  1071.709961  1080.500000  289633984   \n",
              "9 2017-04-02  1107.589966  1075.449951  1080.609985  1102.170044  514187008   \n",
              "\n",
              "     Adj Close  \n",
              "0   937.520020  \n",
              "1   972.778992  \n",
              "2   966.724976  \n",
              "3  1045.770020  \n",
              "4  1047.150024  \n",
              "5  1039.969971  \n",
              "6  1026.430054  \n",
              "7  1071.790039  \n",
              "8  1080.500000  \n",
              "9  1102.170044  "
            ],
            "text/html": [
              "\n",
              "  <div id=\"df-2ed81df5-3967-43b4-8dbc-63b7dbc20077\">\n",
              "    <div class=\"colab-df-container\">\n",
              "      <div>\n",
              "<style scoped>\n",
              "    .dataframe tbody tr th:only-of-type {\n",
              "        vertical-align: middle;\n",
              "    }\n",
              "\n",
              "    .dataframe tbody tr th {\n",
              "        vertical-align: top;\n",
              "    }\n",
              "\n",
              "    .dataframe thead th {\n",
              "        text-align: right;\n",
              "    }\n",
              "</style>\n",
              "<table border=\"1\" class=\"dataframe\">\n",
              "  <thead>\n",
              "    <tr style=\"text-align: right;\">\n",
              "      <th></th>\n",
              "      <th>Date</th>\n",
              "      <th>High</th>\n",
              "      <th>Low</th>\n",
              "      <th>Open</th>\n",
              "      <th>Close</th>\n",
              "      <th>Volume</th>\n",
              "      <th>Adj Close</th>\n",
              "    </tr>\n",
              "  </thead>\n",
              "  <tbody>\n",
              "    <tr>\n",
              "      <th>0</th>\n",
              "      <td>2017-03-24</td>\n",
              "      <td>1040.469971</td>\n",
              "      <td>934.357971</td>\n",
              "      <td>1038.449951</td>\n",
              "      <td>937.520020</td>\n",
              "      <td>491038016</td>\n",
              "      <td>937.520020</td>\n",
              "    </tr>\n",
              "    <tr>\n",
              "      <th>1</th>\n",
              "      <td>2017-03-25</td>\n",
              "      <td>975.760986</td>\n",
              "      <td>903.713013</td>\n",
              "      <td>936.539978</td>\n",
              "      <td>972.778992</td>\n",
              "      <td>435803008</td>\n",
              "      <td>972.778992</td>\n",
              "    </tr>\n",
              "    <tr>\n",
              "      <th>2</th>\n",
              "      <td>2017-03-26</td>\n",
              "      <td>1007.960022</td>\n",
              "      <td>954.185974</td>\n",
              "      <td>974.015015</td>\n",
              "      <td>966.724976</td>\n",
              "      <td>303668000</td>\n",
              "      <td>966.724976</td>\n",
              "    </tr>\n",
              "    <tr>\n",
              "      <th>3</th>\n",
              "      <td>2017-03-27</td>\n",
              "      <td>1046.400024</td>\n",
              "      <td>971.984009</td>\n",
              "      <td>972.054993</td>\n",
              "      <td>1045.770020</td>\n",
              "      <td>372535008</td>\n",
              "      <td>1045.770020</td>\n",
              "    </tr>\n",
              "    <tr>\n",
              "      <th>4</th>\n",
              "      <td>2017-03-28</td>\n",
              "      <td>1064.650024</td>\n",
              "      <td>1027.729980</td>\n",
              "      <td>1044.579956</td>\n",
              "      <td>1047.150024</td>\n",
              "      <td>326332000</td>\n",
              "      <td>1047.150024</td>\n",
              "    </tr>\n",
              "    <tr>\n",
              "      <th>5</th>\n",
              "      <td>2017-03-29</td>\n",
              "      <td>1055.130005</td>\n",
              "      <td>1015.880005</td>\n",
              "      <td>1046.079956</td>\n",
              "      <td>1039.969971</td>\n",
              "      <td>298457984</td>\n",
              "      <td>1039.969971</td>\n",
              "    </tr>\n",
              "    <tr>\n",
              "      <th>6</th>\n",
              "      <td>2017-03-30</td>\n",
              "      <td>1049.290039</td>\n",
              "      <td>1020.039978</td>\n",
              "      <td>1042.209961</td>\n",
              "      <td>1026.430054</td>\n",
              "      <td>352968992</td>\n",
              "      <td>1026.430054</td>\n",
              "    </tr>\n",
              "    <tr>\n",
              "      <th>7</th>\n",
              "      <td>2017-03-31</td>\n",
              "      <td>1074.920044</td>\n",
              "      <td>1026.640015</td>\n",
              "      <td>1026.640015</td>\n",
              "      <td>1071.790039</td>\n",
              "      <td>447287008</td>\n",
              "      <td>1071.790039</td>\n",
              "    </tr>\n",
              "    <tr>\n",
              "      <th>8</th>\n",
              "      <td>2017-04-01</td>\n",
              "      <td>1091.719971</td>\n",
              "      <td>1061.089966</td>\n",
              "      <td>1071.709961</td>\n",
              "      <td>1080.500000</td>\n",
              "      <td>289633984</td>\n",
              "      <td>1080.500000</td>\n",
              "    </tr>\n",
              "    <tr>\n",
              "      <th>9</th>\n",
              "      <td>2017-04-02</td>\n",
              "      <td>1107.589966</td>\n",
              "      <td>1075.449951</td>\n",
              "      <td>1080.609985</td>\n",
              "      <td>1102.170044</td>\n",
              "      <td>514187008</td>\n",
              "      <td>1102.170044</td>\n",
              "    </tr>\n",
              "  </tbody>\n",
              "</table>\n",
              "</div>\n",
              "      <button class=\"colab-df-convert\" onclick=\"convertToInteractive('df-2ed81df5-3967-43b4-8dbc-63b7dbc20077')\"\n",
              "              title=\"Convert this dataframe to an interactive table.\"\n",
              "              style=\"display:none;\">\n",
              "        \n",
              "  <svg xmlns=\"http://www.w3.org/2000/svg\" height=\"24px\"viewBox=\"0 0 24 24\"\n",
              "       width=\"24px\">\n",
              "    <path d=\"M0 0h24v24H0V0z\" fill=\"none\"/>\n",
              "    <path d=\"M18.56 5.44l.94 2.06.94-2.06 2.06-.94-2.06-.94-.94-2.06-.94 2.06-2.06.94zm-11 1L8.5 8.5l.94-2.06 2.06-.94-2.06-.94L8.5 2.5l-.94 2.06-2.06.94zm10 10l.94 2.06.94-2.06 2.06-.94-2.06-.94-.94-2.06-.94 2.06-2.06.94z\"/><path d=\"M17.41 7.96l-1.37-1.37c-.4-.4-.92-.59-1.43-.59-.52 0-1.04.2-1.43.59L10.3 9.45l-7.72 7.72c-.78.78-.78 2.05 0 2.83L4 21.41c.39.39.9.59 1.41.59.51 0 1.02-.2 1.41-.59l7.78-7.78 2.81-2.81c.8-.78.8-2.07 0-2.86zM5.41 20L4 18.59l7.72-7.72 1.47 1.35L5.41 20z\"/>\n",
              "  </svg>\n",
              "      </button>\n",
              "      \n",
              "  <style>\n",
              "    .colab-df-container {\n",
              "      display:flex;\n",
              "      flex-wrap:wrap;\n",
              "      gap: 12px;\n",
              "    }\n",
              "\n",
              "    .colab-df-convert {\n",
              "      background-color: #E8F0FE;\n",
              "      border: none;\n",
              "      border-radius: 50%;\n",
              "      cursor: pointer;\n",
              "      display: none;\n",
              "      fill: #1967D2;\n",
              "      height: 32px;\n",
              "      padding: 0 0 0 0;\n",
              "      width: 32px;\n",
              "    }\n",
              "\n",
              "    .colab-df-convert:hover {\n",
              "      background-color: #E2EBFA;\n",
              "      box-shadow: 0px 1px 2px rgba(60, 64, 67, 0.3), 0px 1px 3px 1px rgba(60, 64, 67, 0.15);\n",
              "      fill: #174EA6;\n",
              "    }\n",
              "\n",
              "    [theme=dark] .colab-df-convert {\n",
              "      background-color: #3B4455;\n",
              "      fill: #D2E3FC;\n",
              "    }\n",
              "\n",
              "    [theme=dark] .colab-df-convert:hover {\n",
              "      background-color: #434B5C;\n",
              "      box-shadow: 0px 1px 3px 1px rgba(0, 0, 0, 0.15);\n",
              "      filter: drop-shadow(0px 1px 2px rgba(0, 0, 0, 0.3));\n",
              "      fill: #FFFFFF;\n",
              "    }\n",
              "  </style>\n",
              "\n",
              "      <script>\n",
              "        const buttonEl =\n",
              "          document.querySelector('#df-2ed81df5-3967-43b4-8dbc-63b7dbc20077 button.colab-df-convert');\n",
              "        buttonEl.style.display =\n",
              "          google.colab.kernel.accessAllowed ? 'block' : 'none';\n",
              "\n",
              "        async function convertToInteractive(key) {\n",
              "          const element = document.querySelector('#df-2ed81df5-3967-43b4-8dbc-63b7dbc20077');\n",
              "          const dataTable =\n",
              "            await google.colab.kernel.invokeFunction('convertToInteractive',\n",
              "                                                     [key], {});\n",
              "          if (!dataTable) return;\n",
              "\n",
              "          const docLinkHtml = 'Like what you see? Visit the ' +\n",
              "            '<a target=\"_blank\" href=https://colab.research.google.com/notebooks/data_table.ipynb>data table notebook</a>'\n",
              "            + ' to learn more about interactive tables.';\n",
              "          element.innerHTML = '';\n",
              "          dataTable['output_type'] = 'display_data';\n",
              "          await google.colab.output.renderOutput(dataTable, element);\n",
              "          const docLink = document.createElement('div');\n",
              "          docLink.innerHTML = docLinkHtml;\n",
              "          element.appendChild(docLink);\n",
              "        }\n",
              "      </script>\n",
              "    </div>\n",
              "  </div>\n",
              "  "
            ]
          },
          "metadata": {},
          "execution_count": 5
        }
      ]
    },
    {
      "cell_type": "code",
      "source": [],
      "metadata": {
        "id": "r9P1rnjuMcdc"
      },
      "execution_count": 5,
      "outputs": []
    },
    {
      "cell_type": "code",
      "source": [],
      "metadata": {
        "id": "oWgzqj9xMcZ9"
      },
      "execution_count": 5,
      "outputs": []
    },
    {
      "cell_type": "code",
      "source": [],
      "metadata": {
        "id": "omFLBWBOMcWV"
      },
      "execution_count": 5,
      "outputs": []
    },
    {
      "cell_type": "code",
      "source": [],
      "metadata": {
        "id": "ibljQ58IMcS2"
      },
      "execution_count": 5,
      "outputs": []
    },
    {
      "cell_type": "code",
      "source": [],
      "metadata": {
        "id": "uppoRcM5McJq"
      },
      "execution_count": 5,
      "outputs": []
    },
    {
      "cell_type": "code",
      "source": [],
      "metadata": {
        "id": "s6fkoq8wMcGn"
      },
      "execution_count": 5,
      "outputs": []
    },
    {
      "cell_type": "code",
      "source": [],
      "metadata": {
        "id": "ICYwR6hMMbyw"
      },
      "execution_count": 5,
      "outputs": []
    },
    {
      "cell_type": "code",
      "source": [],
      "metadata": {
        "id": "3Zu7DsNPMbxC"
      },
      "execution_count": 5,
      "outputs": []
    },
    {
      "cell_type": "code",
      "source": [],
      "metadata": {
        "id": "gA7Wj_XyMbus"
      },
      "execution_count": 5,
      "outputs": []
    },
    {
      "cell_type": "code",
      "source": [],
      "metadata": {
        "id": "x-ItpCcjMbsC"
      },
      "execution_count": 5,
      "outputs": []
    },
    {
      "cell_type": "code",
      "source": [],
      "metadata": {
        "id": "7h-sleKPMbqC"
      },
      "execution_count": 5,
      "outputs": []
    },
    {
      "cell_type": "code",
      "source": [],
      "metadata": {
        "id": "2MsiR7V8MbmZ"
      },
      "execution_count": 5,
      "outputs": []
    },
    {
      "cell_type": "code",
      "source": [],
      "metadata": {
        "id": "NgOk4WgDMbg2"
      },
      "execution_count": 5,
      "outputs": []
    }
  ]
}